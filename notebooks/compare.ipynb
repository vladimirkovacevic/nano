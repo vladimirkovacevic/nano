{
 "cells": [
  {
   "cell_type": "code",
   "execution_count": 12,
   "metadata": {},
   "outputs": [],
   "source": [
    "import scanpy as sc\n",
    "import os\n",
    "import anndata as ad\n",
    "import scipy\n",
    "\n",
    "# from scanpy.external.pp import mnn_correct\n",
    "# from combat.pycombat import pycombat\n",
    "# import scanorama"
   ]
  },
  {
   "cell_type": "markdown",
   "metadata": {},
   "source": [
    "<h1>10x Directory read</h1>"
   ]
  },
  {
   "cell_type": "code",
   "execution_count": null,
   "metadata": {},
   "outputs": [
    {
     "name": "stdout",
     "output_type": "stream",
     "text": [
      "AnnData object with n_obs × n_vars = 1346813 × 32738\n",
      "    var: 'gene_ids'\n",
      "AnnData object with n_obs × n_vars = 1548883 × 32738\n",
      "    var: 'gene_ids'\n",
      "AnnData object with n_obs × n_vars = 1210703 × 32738\n",
      "    var: 'gene_ids'\n",
      "AnnData object with n_obs × n_vars = 1364252 × 32738\n",
      "    var: 'gene_ids'\n"
     ]
    }
   ],
   "source": [
    "dirPath = '../data/10X/'\n",
    "dirs = os.listdir(dirPath)\n",
    "adata_list = [sc.read_10x_mtx(os.path.join(dirPath, dir)) for dir in dirs] \n",
    "\n",
    "for adata in adata_list:\n",
    "    print(adata)"
   ]
  },
  {
   "cell_type": "markdown",
   "metadata": {},
   "source": [
    "<h1>H5</h1>"
   ]
  },
  {
   "cell_type": "code",
   "execution_count": 22,
   "metadata": {},
   "outputs": [
    {
     "name": "stderr",
     "output_type": "stream",
     "text": [
      "c:\\Users\\NenadPC\\AppData\\Local\\Programs\\Python\\Python312\\Lib\\site-packages\\anndata\\_core\\anndata.py:1758: UserWarning: Variable names are not unique. To make them unique, call `.var_names_make_unique`.\n",
      "  utils.warn_names_duplicates(\"var\")\n",
      "c:\\Users\\NenadPC\\AppData\\Local\\Programs\\Python\\Python312\\Lib\\site-packages\\anndata\\_core\\anndata.py:1758: UserWarning: Variable names are not unique. To make them unique, call `.var_names_make_unique`.\n",
      "  utils.warn_names_duplicates(\"var\")\n",
      "c:\\Users\\NenadPC\\AppData\\Local\\Programs\\Python\\Python312\\Lib\\site-packages\\anndata\\_core\\anndata.py:1758: UserWarning: Variable names are not unique. To make them unique, call `.var_names_make_unique`.\n",
      "  utils.warn_names_duplicates(\"var\")\n",
      "c:\\Users\\NenadPC\\AppData\\Local\\Programs\\Python\\Python312\\Lib\\site-packages\\anndata\\_core\\anndata.py:1758: UserWarning: Variable names are not unique. To make them unique, call `.var_names_make_unique`.\n",
      "  utils.warn_names_duplicates(\"var\")\n",
      "c:\\Users\\NenadPC\\AppData\\Local\\Programs\\Python\\Python312\\Lib\\site-packages\\anndata\\_core\\anndata.py:1758: UserWarning: Variable names are not unique. To make them unique, call `.var_names_make_unique`.\n",
      "  utils.warn_names_duplicates(\"var\")\n",
      "c:\\Users\\NenadPC\\AppData\\Local\\Programs\\Python\\Python312\\Lib\\site-packages\\anndata\\_core\\anndata.py:1758: UserWarning: Variable names are not unique. To make them unique, call `.var_names_make_unique`.\n",
      "  utils.warn_names_duplicates(\"var\")\n",
      "c:\\Users\\NenadPC\\AppData\\Local\\Programs\\Python\\Python312\\Lib\\site-packages\\anndata\\_core\\anndata.py:1758: UserWarning: Variable names are not unique. To make them unique, call `.var_names_make_unique`.\n",
      "  utils.warn_names_duplicates(\"var\")\n",
      "c:\\Users\\NenadPC\\AppData\\Local\\Programs\\Python\\Python312\\Lib\\site-packages\\anndata\\_core\\anndata.py:1758: UserWarning: Variable names are not unique. To make them unique, call `.var_names_make_unique`.\n",
      "  utils.warn_names_duplicates(\"var\")\n"
     ]
    },
    {
     "name": "stdout",
     "output_type": "stream",
     "text": [
      "AnnData object with n_obs × n_vars = 1346813 × 32738\n",
      "    var: 'gene_ids', 'feature_types', 'genome'\n",
      "AnnData object with n_obs × n_vars = 1548883 × 32738\n",
      "    var: 'gene_ids', 'feature_types', 'genome'\n",
      "AnnData object with n_obs × n_vars = 1210703 × 32738\n",
      "    var: 'gene_ids', 'feature_types', 'genome'\n",
      "AnnData object with n_obs × n_vars = 1364252 × 32738\n",
      "    var: 'gene_ids', 'feature_types', 'genome'\n"
     ]
    }
   ],
   "source": [
    "filesPath = '../data/h5/'\n",
    "files = os.listdir(filesPath)\n",
    "h5_list = [sc.read_1ix_h5(os.path.join(filesPath, file)) for file in files] \n",
    "\n",
    "for adata in h5_list:\n",
    "    print(adata)"
   ]
  },
  {
   "cell_type": "markdown",
   "metadata": {},
   "source": [
    "<h1>H5 filtered</h1>"
   ]
  },
  {
   "cell_type": "code",
   "execution_count": 23,
   "metadata": {},
   "outputs": [
    {
     "name": "stderr",
     "output_type": "stream",
     "text": [
      "c:\\Users\\NenadPC\\AppData\\Local\\Programs\\Python\\Python312\\Lib\\site-packages\\anndata\\_core\\anndata.py:1758: UserWarning: Variable names are not unique. To make them unique, call `.var_names_make_unique`.\n",
      "  utils.warn_names_duplicates(\"var\")\n",
      "c:\\Users\\NenadPC\\AppData\\Local\\Programs\\Python\\Python312\\Lib\\site-packages\\anndata\\_core\\anndata.py:1758: UserWarning: Variable names are not unique. To make them unique, call `.var_names_make_unique`.\n",
      "  utils.warn_names_duplicates(\"var\")\n",
      "c:\\Users\\NenadPC\\AppData\\Local\\Programs\\Python\\Python312\\Lib\\site-packages\\anndata\\_core\\anndata.py:1758: UserWarning: Variable names are not unique. To make them unique, call `.var_names_make_unique`.\n",
      "  utils.warn_names_duplicates(\"var\")\n",
      "c:\\Users\\NenadPC\\AppData\\Local\\Programs\\Python\\Python312\\Lib\\site-packages\\anndata\\_core\\anndata.py:1758: UserWarning: Variable names are not unique. To make them unique, call `.var_names_make_unique`.\n",
      "  utils.warn_names_duplicates(\"var\")\n",
      "c:\\Users\\NenadPC\\AppData\\Local\\Programs\\Python\\Python312\\Lib\\site-packages\\anndata\\_core\\anndata.py:1758: UserWarning: Variable names are not unique. To make them unique, call `.var_names_make_unique`.\n",
      "  utils.warn_names_duplicates(\"var\")\n",
      "c:\\Users\\NenadPC\\AppData\\Local\\Programs\\Python\\Python312\\Lib\\site-packages\\anndata\\_core\\anndata.py:1758: UserWarning: Variable names are not unique. To make them unique, call `.var_names_make_unique`.\n",
      "  utils.warn_names_duplicates(\"var\")\n",
      "c:\\Users\\NenadPC\\AppData\\Local\\Programs\\Python\\Python312\\Lib\\site-packages\\anndata\\_core\\anndata.py:1758: UserWarning: Variable names are not unique. To make them unique, call `.var_names_make_unique`.\n",
      "  utils.warn_names_duplicates(\"var\")\n"
     ]
    },
    {
     "name": "stdout",
     "output_type": "stream",
     "text": [
      "AnnData object with n_obs × n_vars = 8743 × 32738\n",
      "    var: 'gene_ids', 'feature_types', 'genome'\n",
      "AnnData object with n_obs × n_vars = 12703 × 32738\n",
      "    var: 'gene_ids', 'feature_types', 'genome'\n",
      "AnnData object with n_obs × n_vars = 6176 × 32738\n",
      "    var: 'gene_ids', 'feature_types', 'genome'\n",
      "AnnData object with n_obs × n_vars = 6546 × 32738\n",
      "    var: 'gene_ids', 'feature_types', 'genome'\n"
     ]
    },
    {
     "name": "stderr",
     "output_type": "stream",
     "text": [
      "c:\\Users\\NenadPC\\AppData\\Local\\Programs\\Python\\Python312\\Lib\\site-packages\\anndata\\_core\\anndata.py:1758: UserWarning: Variable names are not unique. To make them unique, call `.var_names_make_unique`.\n",
      "  utils.warn_names_duplicates(\"var\")\n"
     ]
    }
   ],
   "source": [
    "filesPath = '../data/h5_filtered/'\n",
    "files = os.listdir(filesPath)\n",
    "h5_filtered_list = [sc.read_10x_h5(os.path.join(filesPath, file)) for file in files] \n",
    "\n",
    "for adata in h5_filtered_list:\n",
    "    print(adata)"
   ]
  },
  {
   "cell_type": "code",
   "execution_count": 44,
   "metadata": {},
   "outputs": [
    {
     "name": "stdout",
     "output_type": "stream",
     "text": [
      "Sample 1; Sum: -0.00018994138\n",
      "(6397, 4)\n",
      "               gene     mean1     mean2    difference\n",
      "3      RP11-34P13.7  0.000040  0.000040  1.091394e-11\n",
      "5        AL627309.1  0.000034  0.000034  1.091394e-11\n",
      "33           SAMD11  0.000019  0.000019  3.637979e-12\n",
      "37          PLEKHN1  0.000017  0.000017  1.818989e-12\n",
      "40             HES4  0.000028  0.000028  3.637979e-12\n",
      "...             ...       ...       ...           ...\n",
      "32704       MT-ND4L  0.017435  0.017434  9.536743e-07\n",
      "32706        MT-ND5  0.037338  0.037337  3.613532e-07\n",
      "32707        MT-ND6  0.005523  0.005522  2.533197e-07\n",
      "32718       ZNF84-1  0.000016  0.000016  1.818989e-12\n",
      "32722    AC011841.1  0.000016  0.000016  1.818989e-12\n",
      "\n",
      "[6397 rows x 4 columns]\n",
      "Sample 2; Sum: 0.0014007655\n",
      "(7171, 4)\n",
      "                gene     mean1     mean2    difference\n",
      "3       RP11-34P13.7  0.000034  0.000034  3.637979e-12\n",
      "5         AL627309.1  0.000039  0.000039  1.818989e-11\n",
      "8         AP006222.2  0.000227  0.000227  5.093170e-10\n",
      "19     RP11-206L10.3  0.000105  0.000105  1.891749e-10\n",
      "22     RP11-206L10.2  0.000179  0.000179  3.783498e-10\n",
      "...              ...       ...       ...           ...\n",
      "32707         MT-ND6  0.009417  0.009416  8.484349e-07\n",
      "32717     AC011043.1  0.000095  0.000095  1.527951e-10\n",
      "32726     AL354822.1  0.000090  0.000090  1.309672e-10\n",
      "32727        KIR2DL2  0.000107  0.000107  1.746230e-10\n",
      "32731        PNRC2-1  0.000251  0.000251  4.656613e-10\n",
      "\n",
      "[7171 rows x 4 columns]\n",
      "Sample 3; Sum: 0.00047490804\n",
      "(5440, 4)\n",
      "                gene     mean1     mean2    difference\n",
      "9      RP4-669L17.10  0.000008  0.000008  9.094947e-13\n",
      "33            SAMD11  0.000011  0.000011  9.094947e-13\n",
      "50            TTLL10  0.000010  0.000010  9.094947e-13\n",
      "53              SDF4  0.002021  0.002021  6.286427e-09\n",
      "57            UBE2J2  0.002370  0.002370  3.725290e-08\n",
      "...              ...       ...       ...           ...\n",
      "32708         MT-CYB  0.191613  0.191586  2.631545e-05\n",
      "32711     AC145212.1  0.000008  0.000008  9.094947e-13\n",
      "32718        ZNF84-1  0.000007  0.000007  4.547474e-13\n",
      "32721     AL592183.1  0.004639  0.004639  1.098961e-07\n",
      "32732       SRSF10-1  0.002007  0.002007  5.587935e-09\n",
      "\n",
      "[5440 rows x 4 columns]\n",
      "Sample 4; Sum: 0.0015030476\n",
      "(10936, 4)\n",
      "                gene     mean1     mean2    difference\n",
      "3       RP11-34P13.7  0.000033  0.000033  1.455192e-11\n",
      "5         AL627309.1  0.000033  0.000033  1.455192e-11\n",
      "19     RP11-206L10.3  0.000120  0.000120  6.548362e-11\n",
      "22     RP11-206L10.2  0.000098  0.000098  5.093170e-11\n",
      "26         LINC00115  0.000081  0.000081  5.093170e-11\n",
      "...              ...       ...       ...           ...\n",
      "32721     AL592183.1  0.005864  0.005864  1.569279e-07\n",
      "32722     AC011841.1  0.000033  0.000033  1.091394e-11\n",
      "32726     AL354822.1  0.000095  0.000095  7.275958e-11\n",
      "32727        KIR2DL2  0.000108  0.000108  7.275958e-11\n",
      "32732       SRSF10-1  0.001970  0.001970  3.678724e-08\n",
      "\n",
      "[10936 rows x 4 columns]\n"
     ]
    }
   ],
   "source": [
    "import pandas as pd\n",
    "\n",
    "for i in range(4):\n",
    "    # Compute mean expression for shared genes\n",
    "    mean1 = adata_list[i].X.mean(axis=0).A1 if isinstance(adata_list[0].X, scipy.sparse.spmatrix) else adata_list[i].X.mean(axis=0)\n",
    "    mean2 = h5_list[i].X.mean(axis=0).A1 if isinstance(h5_list[0].X, scipy.sparse.spmatrix) else h5_list[i].X.mean(axis=0)\n",
    "\n",
    "# Create a DataFrame for comparison\n",
    "    comparison_df = pd.DataFrame({\n",
    "        'gene': adata_list[i].var_names,\n",
    "        'mean1': mean1,\n",
    "        'mean2': mean2,\n",
    "        'difference': mean1 - mean2\n",
    "    })\n",
    "    print(f\"Sample {i+1}; Sum: \"+str(comparison_df['difference'].sum()))\n",
    "    filtered_df = comparison_df[comparison_df['difference'] > 0]\n",
    "    print(filtered_df.shape)\n",
    "    print(filtered_df)\n",
    "\n",
    "\n"
   ]
  },
  {
   "cell_type": "code",
   "execution_count": null,
   "metadata": {},
   "outputs": [],
   "source": []
  }
 ],
 "metadata": {
  "kernelspec": {
   "display_name": "Python 3",
   "language": "python",
   "name": "python3"
  },
  "language_info": {
   "codemirror_mode": {
    "name": "ipython",
    "version": 3
   },
   "file_extension": ".py",
   "mimetype": "text/x-python",
   "name": "python",
   "nbconvert_exporter": "python",
   "pygments_lexer": "ipython3",
   "version": "3.12.8"
  }
 },
 "nbformat": 4,
 "nbformat_minor": 2
}
