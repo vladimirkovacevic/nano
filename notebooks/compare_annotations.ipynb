{
 "cells": [
  {
   "cell_type": "code",
   "execution_count": 33,
   "id": "e911ff51",
   "metadata": {},
   "outputs": [],
   "source": [
    "import pandas as pd\n",
    "import scanpy as sc\n",
    "import numpy as np"
   ]
  },
  {
   "cell_type": "code",
   "execution_count": 22,
   "id": "3e6e0c71",
   "metadata": {},
   "outputs": [
    {
     "data": {
      "text/plain": [
       "AnnData object with n_obs × n_vars = 34078 × 20388\n",
       "    obs: 'nCount_RNA', 'nFeature_RNA', 'RNA_snn_res.0.3', 'seurat_clusters', 'predicted.id', 'prediction.score.CD14..monocyte', 'prediction.score.Dendritic.cell', 'prediction.score.Cytotoxic.T.cell', 'prediction.score.Plasmacytoid.dendritic.cell', 'prediction.score.B.cell', 'prediction.score.Natural.killer.cell', 'prediction.score.CD4..T.cell', 'prediction.score.max', 'predicted.celltype.score', 'predicted.celltype', 'CoDi', 'CoDi_confidence', 'CoDi_dist', 'CoDi_confidence_dist', 'CoDi_contrastive', 'CoDi_confidence_contrastive', 'sample'\n",
       "    obsm: 'X_pca', 'X_ref.pca', 'X_ref.umap', 'X_umap'\n",
       "    layers: 'counts'"
      ]
     },
     "execution_count": 22,
     "metadata": {},
     "output_type": "execute_result"
    }
   ],
   "source": [
    "# .obs['predicted.celltype'] - seurat\n",
    "# .obs['CoDi'] - CoDi\n",
    "# .obs['CoDi_dist'] - CoDi_dist\n",
    "# .obs['sample'] - sample\n",
    "\n",
    "adata = sc.read_h5ad('../data/merged.h5ad')\n",
    "adata"
   ]
  },
  {
   "cell_type": "code",
   "execution_count": 74,
   "id": "2f17b7f9",
   "metadata": {},
   "outputs": [
    {
     "data": {
      "text/plain": [
       "AnnData object with n_obs × n_vars = 28055 × 33694\n",
       "    obs: 'orig.ident', 'nCount_RNA', 'nFeature_RNA', 'nGene', 'nUMI', 'percent.mito', 'Cluster', 'CellType', 'Experiment', 'Method'\n",
       "    var: 'vf_vst_counts_mean', 'vf_vst_counts_variance', 'vf_vst_counts_variance.expected', 'vf_vst_counts_variance.standardized', 'vf_vst_counts_variable', 'vf_vst_counts_rank', 'var.features', 'var.features.rank'\n",
       "    obsm: 'X_pca', 'X_umap'\n",
       "    layers: 'counts'"
      ]
     },
     "execution_count": 74,
     "metadata": {},
     "output_type": "execute_result"
    }
   ],
   "source": [
    "adata_ref = sc.read_h5ad('../data/ref_broad_pbmc/sc.h5ad')\n",
    "adata_ref.var.set_index('var.features', inplace=True)\n",
    "adata_ref"
   ]
  },
  {
   "cell_type": "code",
   "execution_count": 45,
   "id": "ab9ffefb",
   "metadata": {},
   "outputs": [],
   "source": [
    "samples = sorted(adata.obs['sample'].unique())\n",
    "# Normalize and log1p per sample\n",
    "processed_adata_list = []\n",
    "for sample in samples:\n",
    "    ad_sample = adata[adata.obs['sample'] == sample].copy()\n",
    "    sc.pp.normalize_total(ad_sample, target_sum=1e4)\n",
    "    sc.pp.log1p(ad_sample)\n",
    "    processed_adata_list.append(ad_sample)\n",
    "\n",
    "# Concatenate normalized samples back\n",
    "adata_norm = processed_adata_list"
   ]
  },
  {
   "cell_type": "code",
   "execution_count": 121,
   "id": "923059f7",
   "metadata": {},
   "outputs": [
    {
     "name": "stdout",
     "output_type": "stream",
     "text": [
      "19\n",
      "19\n",
      "13\n",
      "14\n",
      "18\n",
      "--------------------------------------------------\n",
      "16\n",
      "19\n",
      "10\n",
      "13\n",
      "18\n"
     ]
    },
    {
     "data": {
      "text/plain": [
       "{'B cell': ['BANK1',\n",
       "  'BACH2',\n",
       "  'CD19',\n",
       "  'CD22',\n",
       "  'CD37',\n",
       "  'CD74',\n",
       "  'CD79A',\n",
       "  'CD79B',\n",
       "  'CR2',\n",
       "  'FCER2',\n",
       "  'HLA-DRA',\n",
       "  'MS4A1',\n",
       "  'PAX5',\n",
       "  'SPIB',\n",
       "  'TNFRSF13B',\n",
       "  'TNFRSF13C'],\n",
       " 'CD14+ monocyte': ['CD14',\n",
       "  'LYZ',\n",
       "  'S100A8',\n",
       "  'S100A9',\n",
       "  'FCN1',\n",
       "  'CCR2',\n",
       "  'CSF3R',\n",
       "  'FCGR3A',\n",
       "  'ITGAM',\n",
       "  'CX3CR1',\n",
       "  'LST1',\n",
       "  'LGALS3',\n",
       "  'CTSS',\n",
       "  'TREM1',\n",
       "  'IL1B',\n",
       "  'IFI27',\n",
       "  'TNF',\n",
       "  'ICAM1',\n",
       "  'TLR4'],\n",
       " 'CD4+ T cell': ['CD3D',\n",
       "  'CD3E',\n",
       "  'CD3G',\n",
       "  'CD4',\n",
       "  'IL7R',\n",
       "  'CCR7',\n",
       "  'LTB',\n",
       "  'SELL',\n",
       "  'TCF7',\n",
       "  'LEF1'],\n",
       " 'Cytotoxic T cell': ['CD8A',\n",
       "  'CD8B',\n",
       "  'GZMA',\n",
       "  'GZMB',\n",
       "  'GZMK',\n",
       "  'PRF1',\n",
       "  'GNLY',\n",
       "  'NKG7',\n",
       "  'KLRD1',\n",
       "  'CTSW',\n",
       "  'CD2',\n",
       "  'CD27',\n",
       "  'IFNG'],\n",
       " 'Natural killer cell': ['NCAM1',\n",
       "  'NKG7',\n",
       "  'GNLY',\n",
       "  'KLRD1',\n",
       "  'KLRF1',\n",
       "  'GZMA',\n",
       "  'GZMB',\n",
       "  'GZMK',\n",
       "  'PRF1',\n",
       "  'FCGR3A',\n",
       "  'FGFBP2',\n",
       "  'KLRC1',\n",
       "  'NCR1',\n",
       "  'NCR3',\n",
       "  'XCL1',\n",
       "  'XCL2',\n",
       "  'TBX21',\n",
       "  'ZBTB16']}"
      ]
     },
     "execution_count": 121,
     "metadata": {},
     "output_type": "execute_result"
    }
   ],
   "source": [
    "# Define marker genes sets\n",
    "marker_sets = {\n",
    "    \"B cell\": [\n",
    "        \"BANK1\", \"BACH2\", \"CD19\", \"CD22\", \"CD24\", \"CD37\", \"CD74\",\n",
    "        \"CD79A\", \"CD79B\", \"CR2\", \"FCER2\", \"HLA-DRA\", \"IGHD\", \"IGHM\",\n",
    "        \"MS4A1\", \"PAX5\", \"SPIB\", \"TNFRSF13B\", \"TNFRSF13C\"\n",
    "    ],\n",
    "    \"CD14+ monocyte\": [\n",
    "        \"CD14\", \"LYZ\", \"S100A8\", \"S100A9\", \"FCN1\", \"CCR2\", \"CSF3R\",\n",
    "        \"FCGR3A\", \"ITGAM\", \"CX3CR1\", \"LST1\", \"LGALS3\", \"CTSS\",\n",
    "        \"TREM1\", \"IL1B\", \"IFI27\", \"TNF\", \"ICAM1\", \"TLR4\"\n",
    "    ],\n",
    "    \"CD4+ T cell\": [\n",
    "        \"CD3D\", \"CD3E\", \"CD3G\", \"CD4\", \"IL7R\", \"CCR7\", \"LTB\", \"SELL\",\n",
    "        \"TCF7\", \"LEF1\", \"TRAC\", \"TRBC1\", \"TRBC2\"\n",
    "    ],\n",
    "    \"Cytotoxic T cell\": [\n",
    "        \"CD8A\", \"CD8B\", \"GZMA\", \"GZMB\", \"GZMK\", \"PRF1\", \"GNLY\",\n",
    "        \"NKG7\", \"KLRD1\", \"CTSW\", \"TRAC\", \"CD2\", \"CD27\", \"IFNG\"\n",
    "    ],\n",
    "    \"Natural killer cell\": [\n",
    "        \"NCAM1\", \"NKG7\", \"GNLY\", \"KLRD1\", \"KLRF1\", \"GZMA\", \"GZMB\",\n",
    "        \"GZMK\", \"PRF1\", \"FCGR3A\", \"FGFBP2\", \"KLRC1\", \"NCR1\",\n",
    "        \"NCR3\", \"XCL1\", \"XCL2\", \"TBX21\", \"ZBTB16\"\n",
    "    ]\n",
    "}\n",
    "for k, v in marker_sets.items():\n",
    "    print(len(v))\n",
    "\n",
    "all_genes = set(adata.var.index).intersection(set(adata_ref.var.index))\n",
    "marker_sets = {\n",
    "    cell_type: [gene for gene in genes if gene in adata.var.index]\n",
    "    for cell_type, genes in marker_sets.items()\n",
    "}\n",
    "print('-' * 50)\n",
    "for k, v in marker_sets.items():\n",
    "    print(len(v))\n",
    "marker_sets"
   ]
  },
  {
   "cell_type": "code",
   "execution_count": 150,
   "id": "d20a3f6c",
   "metadata": {},
   "outputs": [],
   "source": [
    "# with open(\"output.txt\", \"w\") as f:\n",
    "#     for key in marker_sets:\n",
    "#         value_list = marker_sets[key]\n",
    "#         # Ensure each value is a plain string and not quoted\n",
    "#         value_str = \", \".join(v.replace('\"', '').replace(\"'\", \"\") for v in value_list)\n",
    "#         f.write(f\"{key}: {value_str}\\n\")"
   ]
  },
  {
   "cell_type": "code",
   "execution_count": 96,
   "id": "f685d1ba",
   "metadata": {},
   "outputs": [
    {
     "name": "stdout",
     "output_type": "stream",
     "text": [
      "Processing sample: sample_1\n",
      "Calc rank sum\n"
     ]
    },
    {
     "name": "stderr",
     "output_type": "stream",
     "text": [
      "/Users/vladimirk/opt/anaconda3/lib/python3.9/site-packages/numpy/core/fromnumeric.py:86: FutureWarning: The behavior of DataFrame.sum with axis=None is deprecated, in a future version this will reduce over both axes and return a scalar. To retain the old behavior, pass axis=0 (or do not pass axis)\n",
      "  return reduction(axis=axis, out=out, **passkwargs)\n"
     ]
    },
    {
     "name": "stdout",
     "output_type": "stream",
     "text": [
      "Calc rank sum\n"
     ]
    },
    {
     "name": "stderr",
     "output_type": "stream",
     "text": [
      "/Users/vladimirk/opt/anaconda3/lib/python3.9/site-packages/numpy/core/fromnumeric.py:86: FutureWarning: The behavior of DataFrame.sum with axis=None is deprecated, in a future version this will reduce over both axes and return a scalar. To retain the old behavior, pass axis=0 (or do not pass axis)\n",
      "  return reduction(axis=axis, out=out, **passkwargs)\n"
     ]
    },
    {
     "name": "stdout",
     "output_type": "stream",
     "text": [
      "Calc rank sum\n"
     ]
    },
    {
     "name": "stderr",
     "output_type": "stream",
     "text": [
      "/Users/vladimirk/opt/anaconda3/lib/python3.9/site-packages/numpy/core/fromnumeric.py:86: FutureWarning: The behavior of DataFrame.sum with axis=None is deprecated, in a future version this will reduce over both axes and return a scalar. To retain the old behavior, pass axis=0 (or do not pass axis)\n",
      "  return reduction(axis=axis, out=out, **passkwargs)\n"
     ]
    },
    {
     "name": "stdout",
     "output_type": "stream",
     "text": [
      "Calc rank sum\n"
     ]
    },
    {
     "name": "stderr",
     "output_type": "stream",
     "text": [
      "/Users/vladimirk/opt/anaconda3/lib/python3.9/site-packages/numpy/core/fromnumeric.py:86: FutureWarning: The behavior of DataFrame.sum with axis=None is deprecated, in a future version this will reduce over both axes and return a scalar. To retain the old behavior, pass axis=0 (or do not pass axis)\n",
      "  return reduction(axis=axis, out=out, **passkwargs)\n"
     ]
    },
    {
     "name": "stdout",
     "output_type": "stream",
     "text": [
      "3\n",
      "Calc rank sum\n"
     ]
    },
    {
     "name": "stderr",
     "output_type": "stream",
     "text": [
      "/Users/vladimirk/opt/anaconda3/lib/python3.9/site-packages/numpy/core/fromnumeric.py:86: FutureWarning: The behavior of DataFrame.sum with axis=None is deprecated, in a future version this will reduce over both axes and return a scalar. To retain the old behavior, pass axis=0 (or do not pass axis)\n",
      "  return reduction(axis=axis, out=out, **passkwargs)\n"
     ]
    },
    {
     "name": "stdout",
     "output_type": "stream",
     "text": [
      "Calc rank sum\n"
     ]
    },
    {
     "name": "stderr",
     "output_type": "stream",
     "text": [
      "/Users/vladimirk/opt/anaconda3/lib/python3.9/site-packages/numpy/core/fromnumeric.py:86: FutureWarning: The behavior of DataFrame.sum with axis=None is deprecated, in a future version this will reduce over both axes and return a scalar. To retain the old behavior, pass axis=0 (or do not pass axis)\n",
      "  return reduction(axis=axis, out=out, **passkwargs)\n"
     ]
    },
    {
     "name": "stdout",
     "output_type": "stream",
     "text": [
      "Calc rank sum\n"
     ]
    },
    {
     "name": "stderr",
     "output_type": "stream",
     "text": [
      "/Users/vladimirk/opt/anaconda3/lib/python3.9/site-packages/numpy/core/fromnumeric.py:86: FutureWarning: The behavior of DataFrame.sum with axis=None is deprecated, in a future version this will reduce over both axes and return a scalar. To retain the old behavior, pass axis=0 (or do not pass axis)\n",
      "  return reduction(axis=axis, out=out, **passkwargs)\n"
     ]
    },
    {
     "name": "stdout",
     "output_type": "stream",
     "text": [
      "Calc rank sum\n"
     ]
    },
    {
     "name": "stderr",
     "output_type": "stream",
     "text": [
      "/Users/vladimirk/opt/anaconda3/lib/python3.9/site-packages/numpy/core/fromnumeric.py:86: FutureWarning: The behavior of DataFrame.sum with axis=None is deprecated, in a future version this will reduce over both axes and return a scalar. To retain the old behavior, pass axis=0 (or do not pass axis)\n",
      "  return reduction(axis=axis, out=out, **passkwargs)\n"
     ]
    },
    {
     "name": "stdout",
     "output_type": "stream",
     "text": [
      "Calc rank sum\n"
     ]
    },
    {
     "name": "stderr",
     "output_type": "stream",
     "text": [
      "/Users/vladimirk/opt/anaconda3/lib/python3.9/site-packages/numpy/core/fromnumeric.py:86: FutureWarning: The behavior of DataFrame.sum with axis=None is deprecated, in a future version this will reduce over both axes and return a scalar. To retain the old behavior, pass axis=0 (or do not pass axis)\n",
      "  return reduction(axis=axis, out=out, **passkwargs)\n"
     ]
    },
    {
     "name": "stdout",
     "output_type": "stream",
     "text": [
      "Calc rank sum\n"
     ]
    },
    {
     "name": "stderr",
     "output_type": "stream",
     "text": [
      "/Users/vladimirk/opt/anaconda3/lib/python3.9/site-packages/numpy/core/fromnumeric.py:86: FutureWarning: The behavior of DataFrame.sum with axis=None is deprecated, in a future version this will reduce over both axes and return a scalar. To retain the old behavior, pass axis=0 (or do not pass axis)\n",
      "  return reduction(axis=axis, out=out, **passkwargs)\n"
     ]
    },
    {
     "name": "stdout",
     "output_type": "stream",
     "text": [
      "Calc rank sum\n"
     ]
    },
    {
     "name": "stderr",
     "output_type": "stream",
     "text": [
      "/Users/vladimirk/opt/anaconda3/lib/python3.9/site-packages/numpy/core/fromnumeric.py:86: FutureWarning: The behavior of DataFrame.sum with axis=None is deprecated, in a future version this will reduce over both axes and return a scalar. To retain the old behavior, pass axis=0 (or do not pass axis)\n",
      "  return reduction(axis=axis, out=out, **passkwargs)\n"
     ]
    },
    {
     "name": "stdout",
     "output_type": "stream",
     "text": [
      "Calc rank sum\n"
     ]
    },
    {
     "name": "stderr",
     "output_type": "stream",
     "text": [
      "/Users/vladimirk/opt/anaconda3/lib/python3.9/site-packages/numpy/core/fromnumeric.py:86: FutureWarning: The behavior of DataFrame.sum with axis=None is deprecated, in a future version this will reduce over both axes and return a scalar. To retain the old behavior, pass axis=0 (or do not pass axis)\n",
      "  return reduction(axis=axis, out=out, **passkwargs)\n"
     ]
    },
    {
     "name": "stdout",
     "output_type": "stream",
     "text": [
      "Calc rank sum\n"
     ]
    },
    {
     "name": "stderr",
     "output_type": "stream",
     "text": [
      "/Users/vladimirk/opt/anaconda3/lib/python3.9/site-packages/numpy/core/fromnumeric.py:86: FutureWarning: The behavior of DataFrame.sum with axis=None is deprecated, in a future version this will reduce over both axes and return a scalar. To retain the old behavior, pass axis=0 (or do not pass axis)\n",
      "  return reduction(axis=axis, out=out, **passkwargs)\n"
     ]
    },
    {
     "name": "stdout",
     "output_type": "stream",
     "text": [
      "Calc rank sum\n"
     ]
    },
    {
     "name": "stderr",
     "output_type": "stream",
     "text": [
      "/Users/vladimirk/opt/anaconda3/lib/python3.9/site-packages/numpy/core/fromnumeric.py:86: FutureWarning: The behavior of DataFrame.sum with axis=None is deprecated, in a future version this will reduce over both axes and return a scalar. To retain the old behavior, pass axis=0 (or do not pass axis)\n",
      "  return reduction(axis=axis, out=out, **passkwargs)\n"
     ]
    },
    {
     "name": "stdout",
     "output_type": "stream",
     "text": [
      "Processing sample: sample_2\n",
      "Calc rank sum\n"
     ]
    },
    {
     "name": "stderr",
     "output_type": "stream",
     "text": [
      "/Users/vladimirk/opt/anaconda3/lib/python3.9/site-packages/numpy/core/fromnumeric.py:86: FutureWarning: The behavior of DataFrame.sum with axis=None is deprecated, in a future version this will reduce over both axes and return a scalar. To retain the old behavior, pass axis=0 (or do not pass axis)\n",
      "  return reduction(axis=axis, out=out, **passkwargs)\n"
     ]
    },
    {
     "name": "stdout",
     "output_type": "stream",
     "text": [
      "Calc rank sum\n"
     ]
    },
    {
     "name": "stderr",
     "output_type": "stream",
     "text": [
      "/Users/vladimirk/opt/anaconda3/lib/python3.9/site-packages/numpy/core/fromnumeric.py:86: FutureWarning: The behavior of DataFrame.sum with axis=None is deprecated, in a future version this will reduce over both axes and return a scalar. To retain the old behavior, pass axis=0 (or do not pass axis)\n",
      "  return reduction(axis=axis, out=out, **passkwargs)\n"
     ]
    },
    {
     "name": "stdout",
     "output_type": "stream",
     "text": [
      "Calc rank sum\n"
     ]
    },
    {
     "name": "stderr",
     "output_type": "stream",
     "text": [
      "/Users/vladimirk/opt/anaconda3/lib/python3.9/site-packages/numpy/core/fromnumeric.py:86: FutureWarning: The behavior of DataFrame.sum with axis=None is deprecated, in a future version this will reduce over both axes and return a scalar. To retain the old behavior, pass axis=0 (or do not pass axis)\n",
      "  return reduction(axis=axis, out=out, **passkwargs)\n"
     ]
    },
    {
     "name": "stdout",
     "output_type": "stream",
     "text": [
      "Calc rank sum\n"
     ]
    },
    {
     "name": "stderr",
     "output_type": "stream",
     "text": [
      "/Users/vladimirk/opt/anaconda3/lib/python3.9/site-packages/numpy/core/fromnumeric.py:86: FutureWarning: The behavior of DataFrame.sum with axis=None is deprecated, in a future version this will reduce over both axes and return a scalar. To retain the old behavior, pass axis=0 (or do not pass axis)\n",
      "  return reduction(axis=axis, out=out, **passkwargs)\n"
     ]
    },
    {
     "name": "stdout",
     "output_type": "stream",
     "text": [
      "4\n",
      "Calc rank sum\n"
     ]
    },
    {
     "name": "stderr",
     "output_type": "stream",
     "text": [
      "/Users/vladimirk/opt/anaconda3/lib/python3.9/site-packages/numpy/core/fromnumeric.py:86: FutureWarning: The behavior of DataFrame.sum with axis=None is deprecated, in a future version this will reduce over both axes and return a scalar. To retain the old behavior, pass axis=0 (or do not pass axis)\n",
      "  return reduction(axis=axis, out=out, **passkwargs)\n"
     ]
    },
    {
     "name": "stdout",
     "output_type": "stream",
     "text": [
      "Calc rank sum\n"
     ]
    },
    {
     "name": "stderr",
     "output_type": "stream",
     "text": [
      "/Users/vladimirk/opt/anaconda3/lib/python3.9/site-packages/numpy/core/fromnumeric.py:86: FutureWarning: The behavior of DataFrame.sum with axis=None is deprecated, in a future version this will reduce over both axes and return a scalar. To retain the old behavior, pass axis=0 (or do not pass axis)\n",
      "  return reduction(axis=axis, out=out, **passkwargs)\n"
     ]
    },
    {
     "name": "stdout",
     "output_type": "stream",
     "text": [
      "Calc rank sum\n"
     ]
    },
    {
     "name": "stderr",
     "output_type": "stream",
     "text": [
      "/Users/vladimirk/opt/anaconda3/lib/python3.9/site-packages/numpy/core/fromnumeric.py:86: FutureWarning: The behavior of DataFrame.sum with axis=None is deprecated, in a future version this will reduce over both axes and return a scalar. To retain the old behavior, pass axis=0 (or do not pass axis)\n",
      "  return reduction(axis=axis, out=out, **passkwargs)\n"
     ]
    },
    {
     "name": "stdout",
     "output_type": "stream",
     "text": [
      "Calc rank sum\n"
     ]
    },
    {
     "name": "stderr",
     "output_type": "stream",
     "text": [
      "/Users/vladimirk/opt/anaconda3/lib/python3.9/site-packages/numpy/core/fromnumeric.py:86: FutureWarning: The behavior of DataFrame.sum with axis=None is deprecated, in a future version this will reduce over both axes and return a scalar. To retain the old behavior, pass axis=0 (or do not pass axis)\n",
      "  return reduction(axis=axis, out=out, **passkwargs)\n"
     ]
    },
    {
     "name": "stdout",
     "output_type": "stream",
     "text": [
      "Calc rank sum\n"
     ]
    },
    {
     "name": "stderr",
     "output_type": "stream",
     "text": [
      "/Users/vladimirk/opt/anaconda3/lib/python3.9/site-packages/numpy/core/fromnumeric.py:86: FutureWarning: The behavior of DataFrame.sum with axis=None is deprecated, in a future version this will reduce over both axes and return a scalar. To retain the old behavior, pass axis=0 (or do not pass axis)\n",
      "  return reduction(axis=axis, out=out, **passkwargs)\n"
     ]
    },
    {
     "name": "stdout",
     "output_type": "stream",
     "text": [
      "Calc rank sum\n"
     ]
    },
    {
     "name": "stderr",
     "output_type": "stream",
     "text": [
      "/Users/vladimirk/opt/anaconda3/lib/python3.9/site-packages/numpy/core/fromnumeric.py:86: FutureWarning: The behavior of DataFrame.sum with axis=None is deprecated, in a future version this will reduce over both axes and return a scalar. To retain the old behavior, pass axis=0 (or do not pass axis)\n",
      "  return reduction(axis=axis, out=out, **passkwargs)\n"
     ]
    },
    {
     "name": "stdout",
     "output_type": "stream",
     "text": [
      "Calc rank sum\n"
     ]
    },
    {
     "name": "stderr",
     "output_type": "stream",
     "text": [
      "/Users/vladimirk/opt/anaconda3/lib/python3.9/site-packages/numpy/core/fromnumeric.py:86: FutureWarning: The behavior of DataFrame.sum with axis=None is deprecated, in a future version this will reduce over both axes and return a scalar. To retain the old behavior, pass axis=0 (or do not pass axis)\n",
      "  return reduction(axis=axis, out=out, **passkwargs)\n"
     ]
    },
    {
     "name": "stdout",
     "output_type": "stream",
     "text": [
      "Calc rank sum\n"
     ]
    },
    {
     "name": "stderr",
     "output_type": "stream",
     "text": [
      "/Users/vladimirk/opt/anaconda3/lib/python3.9/site-packages/numpy/core/fromnumeric.py:86: FutureWarning: The behavior of DataFrame.sum with axis=None is deprecated, in a future version this will reduce over both axes and return a scalar. To retain the old behavior, pass axis=0 (or do not pass axis)\n",
      "  return reduction(axis=axis, out=out, **passkwargs)\n"
     ]
    },
    {
     "name": "stdout",
     "output_type": "stream",
     "text": [
      "Calc rank sum\n"
     ]
    },
    {
     "name": "stderr",
     "output_type": "stream",
     "text": [
      "/Users/vladimirk/opt/anaconda3/lib/python3.9/site-packages/numpy/core/fromnumeric.py:86: FutureWarning: The behavior of DataFrame.sum with axis=None is deprecated, in a future version this will reduce over both axes and return a scalar. To retain the old behavior, pass axis=0 (or do not pass axis)\n",
      "  return reduction(axis=axis, out=out, **passkwargs)\n"
     ]
    },
    {
     "name": "stdout",
     "output_type": "stream",
     "text": [
      "Calc rank sum\n"
     ]
    },
    {
     "name": "stderr",
     "output_type": "stream",
     "text": [
      "/Users/vladimirk/opt/anaconda3/lib/python3.9/site-packages/numpy/core/fromnumeric.py:86: FutureWarning: The behavior of DataFrame.sum with axis=None is deprecated, in a future version this will reduce over both axes and return a scalar. To retain the old behavior, pass axis=0 (or do not pass axis)\n",
      "  return reduction(axis=axis, out=out, **passkwargs)\n"
     ]
    },
    {
     "name": "stdout",
     "output_type": "stream",
     "text": [
      "Processing sample: sample_3\n",
      "Calc rank sum\n"
     ]
    },
    {
     "name": "stderr",
     "output_type": "stream",
     "text": [
      "/Users/vladimirk/opt/anaconda3/lib/python3.9/site-packages/numpy/core/fromnumeric.py:86: FutureWarning: The behavior of DataFrame.sum with axis=None is deprecated, in a future version this will reduce over both axes and return a scalar. To retain the old behavior, pass axis=0 (or do not pass axis)\n",
      "  return reduction(axis=axis, out=out, **passkwargs)\n"
     ]
    },
    {
     "name": "stdout",
     "output_type": "stream",
     "text": [
      "Calc rank sum\n"
     ]
    },
    {
     "name": "stderr",
     "output_type": "stream",
     "text": [
      "/Users/vladimirk/opt/anaconda3/lib/python3.9/site-packages/numpy/core/fromnumeric.py:86: FutureWarning: The behavior of DataFrame.sum with axis=None is deprecated, in a future version this will reduce over both axes and return a scalar. To retain the old behavior, pass axis=0 (or do not pass axis)\n",
      "  return reduction(axis=axis, out=out, **passkwargs)\n"
     ]
    },
    {
     "name": "stdout",
     "output_type": "stream",
     "text": [
      "Calc rank sum\n"
     ]
    },
    {
     "name": "stderr",
     "output_type": "stream",
     "text": [
      "/Users/vladimirk/opt/anaconda3/lib/python3.9/site-packages/numpy/core/fromnumeric.py:86: FutureWarning: The behavior of DataFrame.sum with axis=None is deprecated, in a future version this will reduce over both axes and return a scalar. To retain the old behavior, pass axis=0 (or do not pass axis)\n",
      "  return reduction(axis=axis, out=out, **passkwargs)\n"
     ]
    },
    {
     "name": "stdout",
     "output_type": "stream",
     "text": [
      "Calc rank sum\n"
     ]
    },
    {
     "name": "stderr",
     "output_type": "stream",
     "text": [
      "/Users/vladimirk/opt/anaconda3/lib/python3.9/site-packages/numpy/core/fromnumeric.py:86: FutureWarning: The behavior of DataFrame.sum with axis=None is deprecated, in a future version this will reduce over both axes and return a scalar. To retain the old behavior, pass axis=0 (or do not pass axis)\n",
      "  return reduction(axis=axis, out=out, **passkwargs)\n"
     ]
    },
    {
     "name": "stdout",
     "output_type": "stream",
     "text": [
      "0\n",
      "Calc rank sum\n"
     ]
    },
    {
     "name": "stderr",
     "output_type": "stream",
     "text": [
      "/Users/vladimirk/opt/anaconda3/lib/python3.9/site-packages/numpy/core/fromnumeric.py:86: FutureWarning: The behavior of DataFrame.sum with axis=None is deprecated, in a future version this will reduce over both axes and return a scalar. To retain the old behavior, pass axis=0 (or do not pass axis)\n",
      "  return reduction(axis=axis, out=out, **passkwargs)\n"
     ]
    },
    {
     "name": "stdout",
     "output_type": "stream",
     "text": [
      "Calc rank sum\n"
     ]
    },
    {
     "name": "stderr",
     "output_type": "stream",
     "text": [
      "/Users/vladimirk/opt/anaconda3/lib/python3.9/site-packages/numpy/core/fromnumeric.py:86: FutureWarning: The behavior of DataFrame.sum with axis=None is deprecated, in a future version this will reduce over both axes and return a scalar. To retain the old behavior, pass axis=0 (or do not pass axis)\n",
      "  return reduction(axis=axis, out=out, **passkwargs)\n"
     ]
    },
    {
     "name": "stdout",
     "output_type": "stream",
     "text": [
      "Calc rank sum\n"
     ]
    },
    {
     "name": "stderr",
     "output_type": "stream",
     "text": [
      "/Users/vladimirk/opt/anaconda3/lib/python3.9/site-packages/numpy/core/fromnumeric.py:86: FutureWarning: The behavior of DataFrame.sum with axis=None is deprecated, in a future version this will reduce over both axes and return a scalar. To retain the old behavior, pass axis=0 (or do not pass axis)\n",
      "  return reduction(axis=axis, out=out, **passkwargs)\n"
     ]
    },
    {
     "name": "stdout",
     "output_type": "stream",
     "text": [
      "Calc rank sum\n"
     ]
    },
    {
     "name": "stderr",
     "output_type": "stream",
     "text": [
      "/Users/vladimirk/opt/anaconda3/lib/python3.9/site-packages/numpy/core/fromnumeric.py:86: FutureWarning: The behavior of DataFrame.sum with axis=None is deprecated, in a future version this will reduce over both axes and return a scalar. To retain the old behavior, pass axis=0 (or do not pass axis)\n",
      "  return reduction(axis=axis, out=out, **passkwargs)\n"
     ]
    },
    {
     "name": "stdout",
     "output_type": "stream",
     "text": [
      "Calc rank sum\n"
     ]
    },
    {
     "name": "stderr",
     "output_type": "stream",
     "text": [
      "/Users/vladimirk/opt/anaconda3/lib/python3.9/site-packages/numpy/core/fromnumeric.py:86: FutureWarning: The behavior of DataFrame.sum with axis=None is deprecated, in a future version this will reduce over both axes and return a scalar. To retain the old behavior, pass axis=0 (or do not pass axis)\n",
      "  return reduction(axis=axis, out=out, **passkwargs)\n"
     ]
    },
    {
     "name": "stdout",
     "output_type": "stream",
     "text": [
      "Calc rank sum\n"
     ]
    },
    {
     "name": "stderr",
     "output_type": "stream",
     "text": [
      "/Users/vladimirk/opt/anaconda3/lib/python3.9/site-packages/numpy/core/fromnumeric.py:86: FutureWarning: The behavior of DataFrame.sum with axis=None is deprecated, in a future version this will reduce over both axes and return a scalar. To retain the old behavior, pass axis=0 (or do not pass axis)\n",
      "  return reduction(axis=axis, out=out, **passkwargs)\n"
     ]
    },
    {
     "name": "stdout",
     "output_type": "stream",
     "text": [
      "Calc rank sum\n"
     ]
    },
    {
     "name": "stderr",
     "output_type": "stream",
     "text": [
      "/Users/vladimirk/opt/anaconda3/lib/python3.9/site-packages/numpy/core/fromnumeric.py:86: FutureWarning: The behavior of DataFrame.sum with axis=None is deprecated, in a future version this will reduce over both axes and return a scalar. To retain the old behavior, pass axis=0 (or do not pass axis)\n",
      "  return reduction(axis=axis, out=out, **passkwargs)\n"
     ]
    },
    {
     "name": "stdout",
     "output_type": "stream",
     "text": [
      "Calc rank sum\n"
     ]
    },
    {
     "name": "stderr",
     "output_type": "stream",
     "text": [
      "/Users/vladimirk/opt/anaconda3/lib/python3.9/site-packages/numpy/core/fromnumeric.py:86: FutureWarning: The behavior of DataFrame.sum with axis=None is deprecated, in a future version this will reduce over both axes and return a scalar. To retain the old behavior, pass axis=0 (or do not pass axis)\n",
      "  return reduction(axis=axis, out=out, **passkwargs)\n"
     ]
    },
    {
     "name": "stdout",
     "output_type": "stream",
     "text": [
      "Calc rank sum\n"
     ]
    },
    {
     "name": "stderr",
     "output_type": "stream",
     "text": [
      "/Users/vladimirk/opt/anaconda3/lib/python3.9/site-packages/numpy/core/fromnumeric.py:86: FutureWarning: The behavior of DataFrame.sum with axis=None is deprecated, in a future version this will reduce over both axes and return a scalar. To retain the old behavior, pass axis=0 (or do not pass axis)\n",
      "  return reduction(axis=axis, out=out, **passkwargs)\n"
     ]
    },
    {
     "name": "stdout",
     "output_type": "stream",
     "text": [
      "Calc rank sum\n"
     ]
    },
    {
     "name": "stderr",
     "output_type": "stream",
     "text": [
      "/Users/vladimirk/opt/anaconda3/lib/python3.9/site-packages/numpy/core/fromnumeric.py:86: FutureWarning: The behavior of DataFrame.sum with axis=None is deprecated, in a future version this will reduce over both axes and return a scalar. To retain the old behavior, pass axis=0 (or do not pass axis)\n",
      "  return reduction(axis=axis, out=out, **passkwargs)\n"
     ]
    },
    {
     "name": "stdout",
     "output_type": "stream",
     "text": [
      "Processing sample: sample_4\n",
      "Calc rank sum\n"
     ]
    },
    {
     "name": "stderr",
     "output_type": "stream",
     "text": [
      "/Users/vladimirk/opt/anaconda3/lib/python3.9/site-packages/numpy/core/fromnumeric.py:86: FutureWarning: The behavior of DataFrame.sum with axis=None is deprecated, in a future version this will reduce over both axes and return a scalar. To retain the old behavior, pass axis=0 (or do not pass axis)\n",
      "  return reduction(axis=axis, out=out, **passkwargs)\n"
     ]
    },
    {
     "name": "stdout",
     "output_type": "stream",
     "text": [
      "Calc rank sum\n"
     ]
    },
    {
     "name": "stderr",
     "output_type": "stream",
     "text": [
      "/Users/vladimirk/opt/anaconda3/lib/python3.9/site-packages/numpy/core/fromnumeric.py:86: FutureWarning: The behavior of DataFrame.sum with axis=None is deprecated, in a future version this will reduce over both axes and return a scalar. To retain the old behavior, pass axis=0 (or do not pass axis)\n",
      "  return reduction(axis=axis, out=out, **passkwargs)\n"
     ]
    },
    {
     "name": "stdout",
     "output_type": "stream",
     "text": [
      "Calc rank sum\n"
     ]
    },
    {
     "name": "stderr",
     "output_type": "stream",
     "text": [
      "/Users/vladimirk/opt/anaconda3/lib/python3.9/site-packages/numpy/core/fromnumeric.py:86: FutureWarning: The behavior of DataFrame.sum with axis=None is deprecated, in a future version this will reduce over both axes and return a scalar. To retain the old behavior, pass axis=0 (or do not pass axis)\n",
      "  return reduction(axis=axis, out=out, **passkwargs)\n"
     ]
    },
    {
     "name": "stdout",
     "output_type": "stream",
     "text": [
      "Calc rank sum\n"
     ]
    },
    {
     "name": "stderr",
     "output_type": "stream",
     "text": [
      "/Users/vladimirk/opt/anaconda3/lib/python3.9/site-packages/numpy/core/fromnumeric.py:86: FutureWarning: The behavior of DataFrame.sum with axis=None is deprecated, in a future version this will reduce over both axes and return a scalar. To retain the old behavior, pass axis=0 (or do not pass axis)\n",
      "  return reduction(axis=axis, out=out, **passkwargs)\n"
     ]
    },
    {
     "name": "stdout",
     "output_type": "stream",
     "text": [
      "0\n",
      "Calc rank sum\n"
     ]
    },
    {
     "name": "stderr",
     "output_type": "stream",
     "text": [
      "/Users/vladimirk/opt/anaconda3/lib/python3.9/site-packages/numpy/core/fromnumeric.py:86: FutureWarning: The behavior of DataFrame.sum with axis=None is deprecated, in a future version this will reduce over both axes and return a scalar. To retain the old behavior, pass axis=0 (or do not pass axis)\n",
      "  return reduction(axis=axis, out=out, **passkwargs)\n"
     ]
    },
    {
     "name": "stdout",
     "output_type": "stream",
     "text": [
      "Calc rank sum\n"
     ]
    },
    {
     "name": "stderr",
     "output_type": "stream",
     "text": [
      "/Users/vladimirk/opt/anaconda3/lib/python3.9/site-packages/numpy/core/fromnumeric.py:86: FutureWarning: The behavior of DataFrame.sum with axis=None is deprecated, in a future version this will reduce over both axes and return a scalar. To retain the old behavior, pass axis=0 (or do not pass axis)\n",
      "  return reduction(axis=axis, out=out, **passkwargs)\n"
     ]
    },
    {
     "name": "stdout",
     "output_type": "stream",
     "text": [
      "Calc rank sum\n"
     ]
    },
    {
     "name": "stderr",
     "output_type": "stream",
     "text": [
      "/Users/vladimirk/opt/anaconda3/lib/python3.9/site-packages/numpy/core/fromnumeric.py:86: FutureWarning: The behavior of DataFrame.sum with axis=None is deprecated, in a future version this will reduce over both axes and return a scalar. To retain the old behavior, pass axis=0 (or do not pass axis)\n",
      "  return reduction(axis=axis, out=out, **passkwargs)\n"
     ]
    },
    {
     "name": "stdout",
     "output_type": "stream",
     "text": [
      "Calc rank sum\n"
     ]
    },
    {
     "name": "stderr",
     "output_type": "stream",
     "text": [
      "/Users/vladimirk/opt/anaconda3/lib/python3.9/site-packages/numpy/core/fromnumeric.py:86: FutureWarning: The behavior of DataFrame.sum with axis=None is deprecated, in a future version this will reduce over both axes and return a scalar. To retain the old behavior, pass axis=0 (or do not pass axis)\n",
      "  return reduction(axis=axis, out=out, **passkwargs)\n"
     ]
    },
    {
     "name": "stdout",
     "output_type": "stream",
     "text": [
      "Calc rank sum\n"
     ]
    },
    {
     "name": "stderr",
     "output_type": "stream",
     "text": [
      "/Users/vladimirk/opt/anaconda3/lib/python3.9/site-packages/numpy/core/fromnumeric.py:86: FutureWarning: The behavior of DataFrame.sum with axis=None is deprecated, in a future version this will reduce over both axes and return a scalar. To retain the old behavior, pass axis=0 (or do not pass axis)\n",
      "  return reduction(axis=axis, out=out, **passkwargs)\n"
     ]
    },
    {
     "name": "stdout",
     "output_type": "stream",
     "text": [
      "Calc rank sum\n"
     ]
    },
    {
     "name": "stderr",
     "output_type": "stream",
     "text": [
      "/Users/vladimirk/opt/anaconda3/lib/python3.9/site-packages/numpy/core/fromnumeric.py:86: FutureWarning: The behavior of DataFrame.sum with axis=None is deprecated, in a future version this will reduce over both axes and return a scalar. To retain the old behavior, pass axis=0 (or do not pass axis)\n",
      "  return reduction(axis=axis, out=out, **passkwargs)\n"
     ]
    },
    {
     "name": "stdout",
     "output_type": "stream",
     "text": [
      "Calc rank sum\n"
     ]
    },
    {
     "name": "stderr",
     "output_type": "stream",
     "text": [
      "/Users/vladimirk/opt/anaconda3/lib/python3.9/site-packages/numpy/core/fromnumeric.py:86: FutureWarning: The behavior of DataFrame.sum with axis=None is deprecated, in a future version this will reduce over both axes and return a scalar. To retain the old behavior, pass axis=0 (or do not pass axis)\n",
      "  return reduction(axis=axis, out=out, **passkwargs)\n"
     ]
    },
    {
     "name": "stdout",
     "output_type": "stream",
     "text": [
      "Calc rank sum\n"
     ]
    },
    {
     "name": "stderr",
     "output_type": "stream",
     "text": [
      "/Users/vladimirk/opt/anaconda3/lib/python3.9/site-packages/numpy/core/fromnumeric.py:86: FutureWarning: The behavior of DataFrame.sum with axis=None is deprecated, in a future version this will reduce over both axes and return a scalar. To retain the old behavior, pass axis=0 (or do not pass axis)\n",
      "  return reduction(axis=axis, out=out, **passkwargs)\n"
     ]
    },
    {
     "name": "stdout",
     "output_type": "stream",
     "text": [
      "Calc rank sum\n"
     ]
    },
    {
     "name": "stderr",
     "output_type": "stream",
     "text": [
      "/Users/vladimirk/opt/anaconda3/lib/python3.9/site-packages/numpy/core/fromnumeric.py:86: FutureWarning: The behavior of DataFrame.sum with axis=None is deprecated, in a future version this will reduce over both axes and return a scalar. To retain the old behavior, pass axis=0 (or do not pass axis)\n",
      "  return reduction(axis=axis, out=out, **passkwargs)\n"
     ]
    },
    {
     "name": "stdout",
     "output_type": "stream",
     "text": [
      "Calc rank sum\n"
     ]
    },
    {
     "name": "stderr",
     "output_type": "stream",
     "text": [
      "/Users/vladimirk/opt/anaconda3/lib/python3.9/site-packages/numpy/core/fromnumeric.py:86: FutureWarning: The behavior of DataFrame.sum with axis=None is deprecated, in a future version this will reduce over both axes and return a scalar. To retain the old behavior, pass axis=0 (or do not pass axis)\n",
      "  return reduction(axis=axis, out=out, **passkwargs)\n"
     ]
    }
   ],
   "source": [
    "# Calculate marker genes for all annotations and for all cell types\n",
    "annotation_columns = ['predicted.celltype', 'CoDi', 'CoDi_dist']\n",
    "\n",
    "results = []\n",
    "\n",
    "for ind, sample in enumerate(samples):\n",
    "    ad_sample = adata_norm[ind].copy()\n",
    "    print(f\"Processing sample: {sample}\")\n",
    "\n",
    "    for annot_col in annotation_columns:\n",
    "        if annot_col not in ad_sample.obs:\n",
    "            print(f\"Warning: {annot_col} not found in obs\")\n",
    "            continue\n",
    "\n",
    "        for cell_type in marker_sets.keys():\n",
    "            # Check if enough cells of this type in the annotation\n",
    "            mask = ad_sample.obs[annot_col] == cell_type\n",
    "            if mask.sum() < 10:\n",
    "                print(mask.sum() )\n",
    "                continue\n",
    "\n",
    "            # Run rank genes groups to find markers for this cell type vs others\n",
    "            sc.tl.rank_genes_groups(ad_sample,\n",
    "                                    groupby=annot_col,\n",
    "                                    groups=[cell_type],\n",
    "                                    reference='rest',\n",
    "                                    method='wilcoxon',\n",
    "                                    n_genes=100,\n",
    "                                    use_raw=False)\n",
    "\n",
    "            marker_genes = ad_sample.uns['rank_genes_groups']['names'][cell_type]\n",
    "            known_markers = set(marker_sets[cell_type])\n",
    "            found_markers = set(marker_genes).intersection(known_markers)\n",
    "            score = np.round(len(found_markers) / len(known_markers), 2)\n",
    "\n",
    "            results.append({\n",
    "                'sample': sample,\n",
    "                'annotation': annot_col,\n",
    "                'cell_type': cell_type,\n",
    "                'score': score,\n",
    "                'found_markers': list(found_markers),\n",
    "                'top_markers': list(marker_genes[:10])\n",
    "            })\n",
    "\n",
    "# Convert results to DataFrame\n",
    "df_results = pd.DataFrame(results)"
   ]
  },
  {
   "cell_type": "code",
   "execution_count": 95,
   "id": "1cf2cbd9",
   "metadata": {},
   "outputs": [
    {
     "name": "stderr",
     "output_type": "stream",
     "text": [
      "/Users/vladimirk/opt/anaconda3/lib/python3.9/site-packages/numpy/core/fromnumeric.py:86: FutureWarning: The behavior of DataFrame.sum with axis=None is deprecated, in a future version this will reduce over both axes and return a scalar. To retain the old behavior, pass axis=0 (or do not pass axis)\n",
      "  return reduction(axis=axis, out=out, **passkwargs)\n"
     ]
    },
    {
     "data": {
      "text/plain": [
       "0.44"
      ]
     },
     "metadata": {},
     "output_type": "display_data"
    },
    {
     "name": "stderr",
     "output_type": "stream",
     "text": [
      "/Users/vladimirk/opt/anaconda3/lib/python3.9/site-packages/numpy/core/fromnumeric.py:86: FutureWarning: The behavior of DataFrame.sum with axis=None is deprecated, in a future version this will reduce over both axes and return a scalar. To retain the old behavior, pass axis=0 (or do not pass axis)\n",
      "  return reduction(axis=axis, out=out, **passkwargs)\n"
     ]
    },
    {
     "data": {
      "text/plain": [
       "0.42"
      ]
     },
     "metadata": {},
     "output_type": "display_data"
    },
    {
     "name": "stderr",
     "output_type": "stream",
     "text": [
      "/Users/vladimirk/opt/anaconda3/lib/python3.9/site-packages/numpy/core/fromnumeric.py:86: FutureWarning: The behavior of DataFrame.sum with axis=None is deprecated, in a future version this will reduce over both axes and return a scalar. To retain the old behavior, pass axis=0 (or do not pass axis)\n",
      "  return reduction(axis=axis, out=out, **passkwargs)\n"
     ]
    },
    {
     "data": {
      "text/plain": [
       "0.2"
      ]
     },
     "metadata": {},
     "output_type": "display_data"
    },
    {
     "name": "stderr",
     "output_type": "stream",
     "text": [
      "/Users/vladimirk/opt/anaconda3/lib/python3.9/site-packages/numpy/core/fromnumeric.py:86: FutureWarning: The behavior of DataFrame.sum with axis=None is deprecated, in a future version this will reduce over both axes and return a scalar. To retain the old behavior, pass axis=0 (or do not pass axis)\n",
      "  return reduction(axis=axis, out=out, **passkwargs)\n"
     ]
    },
    {
     "data": {
      "text/plain": [
       "0.69"
      ]
     },
     "metadata": {},
     "output_type": "display_data"
    },
    {
     "name": "stderr",
     "output_type": "stream",
     "text": [
      "/Users/vladimirk/opt/anaconda3/lib/python3.9/site-packages/numpy/core/fromnumeric.py:86: FutureWarning: The behavior of DataFrame.sum with axis=None is deprecated, in a future version this will reduce over both axes and return a scalar. To retain the old behavior, pass axis=0 (or do not pass axis)\n",
      "  return reduction(axis=axis, out=out, **passkwargs)\n"
     ]
    },
    {
     "data": {
      "text/plain": [
       "0.5"
      ]
     },
     "metadata": {},
     "output_type": "display_data"
    },
    {
     "data": {
      "text/html": [
       "<div>\n",
       "<style scoped>\n",
       "    .dataframe tbody tr th:only-of-type {\n",
       "        vertical-align: middle;\n",
       "    }\n",
       "\n",
       "    .dataframe tbody tr th {\n",
       "        vertical-align: top;\n",
       "    }\n",
       "\n",
       "    .dataframe thead th {\n",
       "        text-align: right;\n",
       "    }\n",
       "</style>\n",
       "<table border=\"1\" class=\"dataframe\">\n",
       "  <thead>\n",
       "    <tr style=\"text-align: right;\">\n",
       "      <th></th>\n",
       "      <th>sample</th>\n",
       "      <th>annotation</th>\n",
       "      <th>cell_type</th>\n",
       "      <th>score</th>\n",
       "      <th>found_markers</th>\n",
       "      <th>top_markers</th>\n",
       "    </tr>\n",
       "  </thead>\n",
       "  <tbody>\n",
       "    <tr>\n",
       "      <th>0</th>\n",
       "      <td>sample_4</td>\n",
       "      <td>CellType</td>\n",
       "      <td>B cell</td>\n",
       "      <td>0.44</td>\n",
       "      <td>[MS4A1, CD79A, BANK1, HLA-DRA, CD37, CD74, CD79B]</td>\n",
       "      <td>[CD74, HLA-DRA, CD79A, MS4A1, IGHM, HLA-DRB1, ...</td>\n",
       "    </tr>\n",
       "    <tr>\n",
       "      <th>1</th>\n",
       "      <td>sample_4</td>\n",
       "      <td>CellType</td>\n",
       "      <td>CD14+ monocyte</td>\n",
       "      <td>0.42</td>\n",
       "      <td>[CD14, CSF3R, FCN1, S100A9, S100A8, LST1, LYZ,...</td>\n",
       "      <td>[LYZ, S100A9, S100A8, FCN1, FOS, CST3, PSAP, T...</td>\n",
       "    </tr>\n",
       "    <tr>\n",
       "      <th>2</th>\n",
       "      <td>sample_4</td>\n",
       "      <td>CellType</td>\n",
       "      <td>CD4+ T cell</td>\n",
       "      <td>0.20</td>\n",
       "      <td>[IL7R, LTB]</td>\n",
       "      <td>[IL7R, nan, LTB, nan, TRAC, nan, IL32, nan, na...</td>\n",
       "    </tr>\n",
       "    <tr>\n",
       "      <th>3</th>\n",
       "      <td>sample_4</td>\n",
       "      <td>CellType</td>\n",
       "      <td>Cytotoxic T cell</td>\n",
       "      <td>0.69</td>\n",
       "      <td>[CTSW, GZMB, CD8B, GZMA, KLRD1, NKG7, PRF1, CD...</td>\n",
       "      <td>[CCL5, NKG7, CST7, GZMH, IL32, CTSW, GZMA, FGF...</td>\n",
       "    </tr>\n",
       "    <tr>\n",
       "      <th>4</th>\n",
       "      <td>sample_4</td>\n",
       "      <td>CellType</td>\n",
       "      <td>Natural killer cell</td>\n",
       "      <td>0.50</td>\n",
       "      <td>[NKG7, GZMB, KLRF1, KLRD1, FCGR3A, PRF1, GZMA,...</td>\n",
       "      <td>[GNLY, NKG7, PRF1, GZMB, GZMA, KLRD1, KLRF1, C...</td>\n",
       "    </tr>\n",
       "  </tbody>\n",
       "</table>\n",
       "</div>"
      ],
      "text/plain": [
       "     sample annotation            cell_type  score  \\\n",
       "0  sample_4   CellType               B cell   0.44   \n",
       "1  sample_4   CellType       CD14+ monocyte   0.42   \n",
       "2  sample_4   CellType          CD4+ T cell   0.20   \n",
       "3  sample_4   CellType     Cytotoxic T cell   0.69   \n",
       "4  sample_4   CellType  Natural killer cell   0.50   \n",
       "\n",
       "                                       found_markers  \\\n",
       "0  [MS4A1, CD79A, BANK1, HLA-DRA, CD37, CD74, CD79B]   \n",
       "1  [CD14, CSF3R, FCN1, S100A9, S100A8, LST1, LYZ,...   \n",
       "2                                        [IL7R, LTB]   \n",
       "3  [CTSW, GZMB, CD8B, GZMA, KLRD1, NKG7, PRF1, CD...   \n",
       "4  [NKG7, GZMB, KLRF1, KLRD1, FCGR3A, PRF1, GZMA,...   \n",
       "\n",
       "                                         top_markers  \n",
       "0  [CD74, HLA-DRA, CD79A, MS4A1, IGHM, HLA-DRB1, ...  \n",
       "1  [LYZ, S100A9, S100A8, FCN1, FOS, CST3, PSAP, T...  \n",
       "2  [IL7R, nan, LTB, nan, TRAC, nan, IL32, nan, na...  \n",
       "3  [CCL5, NKG7, CST7, GZMH, IL32, CTSW, GZMA, FGF...  \n",
       "4  [GNLY, NKG7, PRF1, GZMB, GZMA, KLRD1, KLRF1, C...  "
      ]
     },
     "execution_count": 95,
     "metadata": {},
     "output_type": "execute_result"
    }
   ],
   "source": [
    "# Caclulate marker genes in reference sample\n",
    "annotation_columns = ['CellType']\n",
    "\n",
    "results_ref = []\n",
    "\n",
    "\n",
    "ad_sample = adata_ref\n",
    "\n",
    "for annot_col in annotation_columns:\n",
    "    if annot_col not in ad_sample.obs:\n",
    "        print(f\"Warning: {annot_col} not found in obs\")\n",
    "        continue\n",
    "\n",
    "    for cell_type in marker_sets.keys():\n",
    "        # Check if enough cells of this type in the annotation\n",
    "        mask = ad_sample.obs[annot_col] == cell_type\n",
    "        if mask.sum() < 10:\n",
    "            print(mask.sum() )\n",
    "            continue\n",
    "\n",
    "        # Run rank genes groups to find markers for this cell type vs others\n",
    "        sc.tl.rank_genes_groups(ad_sample,\n",
    "                                groupby=annot_col,\n",
    "                                groups=[cell_type],\n",
    "                                reference='rest',\n",
    "                                method='wilcoxon',\n",
    "                                n_genes=100,\n",
    "                                use_raw=False)\n",
    "\n",
    "        marker_genes = ad_sample.uns['rank_genes_groups']['names'][cell_type]\n",
    "        known_markers = set(marker_sets[cell_type])\n",
    "        found_markers = set(marker_genes).intersection(known_markers)\n",
    "        score = np.round(len(found_markers) / len(known_markers), 2)\n",
    "\n",
    "        results_ref.append({\n",
    "            'sample': sample,\n",
    "            'annotation': annot_col,\n",
    "            'cell_type': cell_type,\n",
    "            'score': score,\n",
    "            'found_markers': list(found_markers),\n",
    "            'top_markers': list(marker_genes[:10])\n",
    "        })\n",
    "        display(score)\n",
    "\n",
    "# Convert results to DataFrame\n",
    "df_results_ref = pd.DataFrame(results_ref)\n",
    "df_results_ref\n",
    "# df_results.to_csv('ann_results.csv', index=False)"
   ]
  },
  {
   "cell_type": "code",
   "execution_count": 107,
   "id": "b9c10b5f",
   "metadata": {},
   "outputs": [],
   "source": [
    "res_grupped = pd.concat([df_results, df_results_ref]).groupby(['annotation', 'cell_type'])['score'].mean()"
   ]
  },
  {
   "cell_type": "code",
   "execution_count": 112,
   "id": "cdb8667a",
   "metadata": {},
   "outputs": [
    {
     "data": {
      "text/html": [
       "<div>\n",
       "<style scoped>\n",
       "    .dataframe tbody tr th:only-of-type {\n",
       "        vertical-align: middle;\n",
       "    }\n",
       "\n",
       "    .dataframe tbody tr th {\n",
       "        vertical-align: top;\n",
       "    }\n",
       "\n",
       "    .dataframe thead th {\n",
       "        text-align: right;\n",
       "    }\n",
       "</style>\n",
       "<table border=\"1\" class=\"dataframe\">\n",
       "  <thead>\n",
       "    <tr style=\"text-align: right;\">\n",
       "      <th></th>\n",
       "      <th>annotation</th>\n",
       "      <th>cell_type</th>\n",
       "      <th>score</th>\n",
       "    </tr>\n",
       "  </thead>\n",
       "  <tbody>\n",
       "    <tr>\n",
       "      <th>0</th>\n",
       "      <td>CellType</td>\n",
       "      <td>B cell</td>\n",
       "      <td>0.4400</td>\n",
       "    </tr>\n",
       "    <tr>\n",
       "      <th>1</th>\n",
       "      <td>CellType</td>\n",
       "      <td>CD14+ monocyte</td>\n",
       "      <td>0.4200</td>\n",
       "    </tr>\n",
       "    <tr>\n",
       "      <th>2</th>\n",
       "      <td>CellType</td>\n",
       "      <td>CD4+ T cell</td>\n",
       "      <td>0.2000</td>\n",
       "    </tr>\n",
       "    <tr>\n",
       "      <th>3</th>\n",
       "      <td>CellType</td>\n",
       "      <td>Cytotoxic T cell</td>\n",
       "      <td>0.6900</td>\n",
       "    </tr>\n",
       "    <tr>\n",
       "      <th>4</th>\n",
       "      <td>CellType</td>\n",
       "      <td>Natural killer cell</td>\n",
       "      <td>0.5000</td>\n",
       "    </tr>\n",
       "    <tr>\n",
       "      <th>5</th>\n",
       "      <td>CoDi</td>\n",
       "      <td>B cell</td>\n",
       "      <td>0.6200</td>\n",
       "    </tr>\n",
       "    <tr>\n",
       "      <th>6</th>\n",
       "      <td>CoDi</td>\n",
       "      <td>CD14+ monocyte</td>\n",
       "      <td>0.1225</td>\n",
       "    </tr>\n",
       "    <tr>\n",
       "      <th>7</th>\n",
       "      <td>CoDi</td>\n",
       "      <td>CD4+ T cell</td>\n",
       "      <td>0.4500</td>\n",
       "    </tr>\n",
       "    <tr>\n",
       "      <th>8</th>\n",
       "      <td>CoDi</td>\n",
       "      <td>Cytotoxic T cell</td>\n",
       "      <td>0.4025</td>\n",
       "    </tr>\n",
       "    <tr>\n",
       "      <th>9</th>\n",
       "      <td>CoDi</td>\n",
       "      <td>Natural killer cell</td>\n",
       "      <td>0.3600</td>\n",
       "    </tr>\n",
       "    <tr>\n",
       "      <th>10</th>\n",
       "      <td>CoDi_dist</td>\n",
       "      <td>B cell</td>\n",
       "      <td>0.6200</td>\n",
       "    </tr>\n",
       "    <tr>\n",
       "      <th>11</th>\n",
       "      <td>CoDi_dist</td>\n",
       "      <td>CD14+ monocyte</td>\n",
       "      <td>0.1225</td>\n",
       "    </tr>\n",
       "    <tr>\n",
       "      <th>12</th>\n",
       "      <td>CoDi_dist</td>\n",
       "      <td>CD4+ T cell</td>\n",
       "      <td>0.4500</td>\n",
       "    </tr>\n",
       "    <tr>\n",
       "      <th>13</th>\n",
       "      <td>CoDi_dist</td>\n",
       "      <td>Cytotoxic T cell</td>\n",
       "      <td>0.4400</td>\n",
       "    </tr>\n",
       "    <tr>\n",
       "      <th>14</th>\n",
       "      <td>CoDi_dist</td>\n",
       "      <td>Natural killer cell</td>\n",
       "      <td>0.4275</td>\n",
       "    </tr>\n",
       "    <tr>\n",
       "      <th>15</th>\n",
       "      <td>predicted.celltype</td>\n",
       "      <td>B cell</td>\n",
       "      <td>0.6200</td>\n",
       "    </tr>\n",
       "    <tr>\n",
       "      <th>16</th>\n",
       "      <td>predicted.celltype</td>\n",
       "      <td>CD14+ monocyte</td>\n",
       "      <td>0.1225</td>\n",
       "    </tr>\n",
       "    <tr>\n",
       "      <th>17</th>\n",
       "      <td>predicted.celltype</td>\n",
       "      <td>CD4+ T cell</td>\n",
       "      <td>0.4500</td>\n",
       "    </tr>\n",
       "    <tr>\n",
       "      <th>18</th>\n",
       "      <td>predicted.celltype</td>\n",
       "      <td>Cytotoxic T cell</td>\n",
       "      <td>0.4200</td>\n",
       "    </tr>\n",
       "  </tbody>\n",
       "</table>\n",
       "</div>"
      ],
      "text/plain": [
       "            annotation            cell_type   score\n",
       "0             CellType               B cell  0.4400\n",
       "1             CellType       CD14+ monocyte  0.4200\n",
       "2             CellType          CD4+ T cell  0.2000\n",
       "3             CellType     Cytotoxic T cell  0.6900\n",
       "4             CellType  Natural killer cell  0.5000\n",
       "5                 CoDi               B cell  0.6200\n",
       "6                 CoDi       CD14+ monocyte  0.1225\n",
       "7                 CoDi          CD4+ T cell  0.4500\n",
       "8                 CoDi     Cytotoxic T cell  0.4025\n",
       "9                 CoDi  Natural killer cell  0.3600\n",
       "10           CoDi_dist               B cell  0.6200\n",
       "11           CoDi_dist       CD14+ monocyte  0.1225\n",
       "12           CoDi_dist          CD4+ T cell  0.4500\n",
       "13           CoDi_dist     Cytotoxic T cell  0.4400\n",
       "14           CoDi_dist  Natural killer cell  0.4275\n",
       "15  predicted.celltype               B cell  0.6200\n",
       "16  predicted.celltype       CD14+ monocyte  0.1225\n",
       "17  predicted.celltype          CD4+ T cell  0.4500\n",
       "18  predicted.celltype     Cytotoxic T cell  0.4200"
      ]
     },
     "execution_count": 112,
     "metadata": {},
     "output_type": "execute_result"
    }
   ],
   "source": [
    "res_grupped.reset_index()"
   ]
  },
  {
   "cell_type": "code",
   "execution_count": 149,
   "id": "b5c3184c",
   "metadata": {},
   "outputs": [
    {
     "data": {
      "text/html": [
       "<div>\n",
       "<style scoped>\n",
       "    .dataframe tbody tr th:only-of-type {\n",
       "        vertical-align: middle;\n",
       "    }\n",
       "\n",
       "    .dataframe tbody tr th {\n",
       "        vertical-align: top;\n",
       "    }\n",
       "\n",
       "    .dataframe thead th {\n",
       "        text-align: right;\n",
       "    }\n",
       "</style>\n",
       "<table border=\"1\" class=\"dataframe\">\n",
       "  <thead>\n",
       "    <tr style=\"text-align: right;\">\n",
       "      <th>cell_type</th>\n",
       "      <th>B cell</th>\n",
       "      <th>CD14+ monocyte</th>\n",
       "      <th>CD4+ T cell</th>\n",
       "      <th>Cytotoxic T cell</th>\n",
       "      <th>Natural killer cell</th>\n",
       "      <th></th>\n",
       "    </tr>\n",
       "    <tr>\n",
       "      <th>annotation</th>\n",
       "      <th></th>\n",
       "      <th></th>\n",
       "      <th></th>\n",
       "      <th></th>\n",
       "      <th></th>\n",
       "      <th></th>\n",
       "    </tr>\n",
       "  </thead>\n",
       "  <tbody>\n",
       "    <tr>\n",
       "      <th>scRNA reference</th>\n",
       "      <td>0.44</td>\n",
       "      <td>0.4200</td>\n",
       "      <td>0.20</td>\n",
       "      <td>0.6900</td>\n",
       "      <td>0.5000</td>\n",
       "      <td>0.4500</td>\n",
       "    </tr>\n",
       "    <tr>\n",
       "      <th>CoDi</th>\n",
       "      <td>0.62</td>\n",
       "      <td>0.1225</td>\n",
       "      <td>0.45</td>\n",
       "      <td>0.4025</td>\n",
       "      <td>0.3600</td>\n",
       "      <td>0.3910</td>\n",
       "    </tr>\n",
       "    <tr>\n",
       "      <th>CoDi_dist</th>\n",
       "      <td>0.62</td>\n",
       "      <td>0.1225</td>\n",
       "      <td>0.45</td>\n",
       "      <td>0.4400</td>\n",
       "      <td>0.4275</td>\n",
       "      <td>0.4120</td>\n",
       "    </tr>\n",
       "    <tr>\n",
       "      <th>Seurat</th>\n",
       "      <td>0.62</td>\n",
       "      <td>0.1225</td>\n",
       "      <td>0.45</td>\n",
       "      <td>0.4200</td>\n",
       "      <td>NaN</td>\n",
       "      <td>0.4031</td>\n",
       "    </tr>\n",
       "  </tbody>\n",
       "</table>\n",
       "</div>"
      ],
      "text/plain": [
       "cell_type        B cell  CD14+ monocyte  CD4+ T cell  Cytotoxic T cell  \\\n",
       "annotation                                                               \n",
       "scRNA reference    0.44          0.4200         0.20            0.6900   \n",
       "CoDi               0.62          0.1225         0.45            0.4025   \n",
       "CoDi_dist          0.62          0.1225         0.45            0.4400   \n",
       "Seurat             0.62          0.1225         0.45            0.4200   \n",
       "\n",
       "cell_type        Natural killer cell          \n",
       "annotation                                    \n",
       "scRNA reference               0.5000  0.4500  \n",
       "CoDi                          0.3600  0.3910  \n",
       "CoDi_dist                     0.4275  0.4120  \n",
       "Seurat                           NaN  0.4031  "
      ]
     },
     "execution_count": 149,
     "metadata": {},
     "output_type": "execute_result"
    }
   ],
   "source": [
    "# Assuming df is your original DataFrame\n",
    "pivoted_df = res_grupped.reset_index().pivot(index='annotation', columns='cell_type')\n",
    "pivoted_df.loc[:, 'Mean'] = pivoted_df.apply(lambda x: np.mean(x), axis=1)\n",
    "pivoted_df = pivoted_df.reset_index()\n",
    "pivoted_df['annotation'] = pivoted_df['annotation'].apply(lambda x: x.replace('CellType', 'scRNA reference').replace('predicted.celltype', 'Seurat'))\n",
    "pivoted_df = pivoted_df.set_index('annotation')\n",
    "pivoted_df.columns = pivoted_df.columns.get_level_values(1)\n",
    "pivoted_df = pivoted_df.map(lambda x: np.round(x, 4))\n",
    "pivoted_df.to_csv('ann_results.csv')\n",
    "pivoted_df"
   ]
  }
 ],
 "metadata": {
  "kernelspec": {
   "display_name": "Python 3 (ipykernel)",
   "language": "python",
   "name": "python3"
  },
  "language_info": {
   "codemirror_mode": {
    "name": "ipython",
    "version": 3
   },
   "file_extension": ".py",
   "mimetype": "text/x-python",
   "name": "python",
   "nbconvert_exporter": "python",
   "pygments_lexer": "ipython3",
   "version": "3.9.12"
  }
 },
 "nbformat": 4,
 "nbformat_minor": 5
}
